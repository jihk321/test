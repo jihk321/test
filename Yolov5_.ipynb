{
  "nbformat": 4,
  "nbformat_minor": 0,
  "metadata": {
    "colab": {
      "name": "Yolov5 .ipynb",
      "provenance": [],
      "collapsed_sections": []
    },
    "kernelspec": {
      "display_name": "Python 3",
      "name": "python3"
    },
    "accelerator": "GPU"
  },
  "cells": [
    {
      "cell_type": "markdown",
      "metadata": {
        "id": "wHBQcQzjD6HJ"
      },
      "source": [
        "**Connect google drive**"
      ]
    },
    {
      "cell_type": "code",
      "metadata": {
        "id": "bwp6NIrsZZFP",
        "colab": {
          "base_uri": "https://localhost:8080/"
        },
        "outputId": "a6be0a05-f6e4-4986-feed-1e23d45ef951"
      },
      "source": [
        "# Check if NVIDIA GPU is enabled\n",
        "!nvidia-smi"
      ],
      "execution_count": 1,
      "outputs": [
        {
          "output_type": "stream",
          "name": "stdout",
          "text": [
            "Fri Apr 15 01:16:12 2022       \n",
            "+-----------------------------------------------------------------------------+\n",
            "| NVIDIA-SMI 460.32.03    Driver Version: 460.32.03    CUDA Version: 11.2     |\n",
            "|-------------------------------+----------------------+----------------------+\n",
            "| GPU  Name        Persistence-M| Bus-Id        Disp.A | Volatile Uncorr. ECC |\n",
            "| Fan  Temp  Perf  Pwr:Usage/Cap|         Memory-Usage | GPU-Util  Compute M. |\n",
            "|                               |                      |               MIG M. |\n",
            "|===============================+======================+======================|\n",
            "|   0  Tesla T4            Off  | 00000000:00:04.0 Off |                    0 |\n",
            "| N/A   54C    P8    10W /  70W |      0MiB / 15109MiB |      0%      Default |\n",
            "|                               |                      |                  N/A |\n",
            "+-------------------------------+----------------------+----------------------+\n",
            "                                                                               \n",
            "+-----------------------------------------------------------------------------+\n",
            "| Processes:                                                                  |\n",
            "|  GPU   GI   CI        PID   Type   Process name                  GPU Memory |\n",
            "|        ID   ID                                                   Usage      |\n",
            "|=============================================================================|\n",
            "|  No running processes found                                                 |\n",
            "+-----------------------------------------------------------------------------+\n"
          ]
        }
      ]
    },
    {
      "cell_type": "code",
      "metadata": {
        "id": "EMEM3Orxpgrb",
        "colab": {
          "base_uri": "https://localhost:8080/"
        },
        "outputId": "e8c6743a-81fc-41f7-eaf1-86262be6e1b8"
      },
      "source": [
        "from google.colab import drive\n",
        "drive.mount('/content/drive')"
      ],
      "execution_count": 2,
      "outputs": [
        {
          "output_type": "stream",
          "name": "stdout",
          "text": [
            "Mounted at /content/drive\n"
          ]
        }
      ]
    },
    {
      "cell_type": "code",
      "metadata": {
        "id": "9e9ZW3sqMEPO"
      },
      "source": [
        "from google.colab import drive\n",
        "drive.mount('/content/gdrive')\n",
        "!ln -s /content/gdrive/My\\ Drive/ /mydrive\n",
        "!ls /mydrive"
      ],
      "execution_count": null,
      "outputs": []
    },
    {
      "cell_type": "code",
      "metadata": {
        "id": "e03U7Zi-qMr2"
      },
      "source": [
        "!git clone https://github.com/ultralytics/yolov5\n"
      ],
      "execution_count": null,
      "outputs": []
    },
    {
      "cell_type": "code",
      "metadata": {
        "id": "5H-Taj06Tw1c"
      },
      "source": [
        "!pip install -U -r drive/MyDrive/yolov5/requirements.txt"
      ],
      "execution_count": null,
      "outputs": []
    },
    {
      "cell_type": "code",
      "metadata": {
        "id": "s-RpscgU853t"
      },
      "source": [
        "#!cp cfg/yolov3.cfg cfg/yolov3_training.cfg\n",
        "!cp drive/MyDrive/yolov5/data/apex.yaml yolov5"
      ],
      "execution_count": null,
      "outputs": []
    },
    {
      "cell_type": "code",
      "metadata": {
        "id": "7AIBw_psIclz"
      },
      "source": [
        "!mkdir datasets\n",
        "%cd /content/datasets\n",
        "\n",
        "!curl -L \"https://app.roboflow.com/ds/DpwqdxMoKN?key=ZXVeaj4ye2\" > roboflow.zip; unzip roboflow.zip; rm roboflow.zip"
      ],
      "execution_count": null,
      "outputs": []
    },
    {
      "cell_type": "code",
      "metadata": {
        "id": "eZlkzFMW7I_N"
      },
      "source": [
        "# Download weights darknet model 53\n",
        "# !wget https://pjreddie.com/media/files/darknet53.conv.74"
      ],
      "execution_count": null,
      "outputs": []
    },
    {
      "cell_type": "markdown",
      "source": [
        "*학습*\n",
        "\n",
        "python train.py --img 640 --batch 32 --epochs 10000 --data data/coco128.yaml --cfg models/yolov5s.yaml --weights weights/yolov5s.pt\n",
        "\n",
        "python train.py --img 640 --batch -1 --epochs 10000 --data data/apex.yaml --cfg models/yolov5s.yaml --weights weights/yolov5s.pt\n",
        "\n",
        "인식\n",
        "\n",
        "python detect.py --source test --weights runs/train/exe~~~/weights/best.pt --conf 0.4"
      ],
      "metadata": {
        "id": "AnCt2J3GAg6f"
      }
    },
    {
      "cell_type": "code",
      "metadata": {
        "id": "S3_g3jclUzMm",
        "colab": {
          "base_uri": "https://localhost:8080/"
        },
        "outputId": "0edd0d71-3880-477e-f42b-58a487f56ae8"
      },
      "source": [
        "# Start the training\n",
        "# !./yolov5 detector train data/obj.data cfg/yolov3_training.cfg darknet53.conv.74 -dont_show\n",
        "!python  /content/drive/MyDrive/yolov5/train.py --img 640 --batch -1 --epochs 10000 --data /content/drive/MyDrive/yolov5/data/google.yaml --cfg /content/drive/MyDrive/yolov5/models/yolov5s.yaml --weights /content/drive/MyDrive/yolov5/yolov5s.pt --patience 0"
      ],
      "execution_count": null,
      "outputs": [
        {
          "output_type": "stream",
          "name": "stdout",
          "text": [
            "Downloading https://ultralytics.com/assets/Arial.ttf to /root/.config/Ultralytics/Arial.ttf...\n",
            "\u001b[34m\u001b[1mwandb\u001b[0m: (1) Create a W&B account\n",
            "\u001b[34m\u001b[1mwandb\u001b[0m: (2) Use an existing W&B account\n",
            "\u001b[34m\u001b[1mwandb\u001b[0m: (3) Don't visualize my results\n",
            "\u001b[34m\u001b[1mwandb\u001b[0m: Enter your choice: (30 second timeout) 2\n",
            "\u001b[34m\u001b[1mwandb\u001b[0m: You chose 'Use an existing W&B account'\n",
            "\u001b[34m\u001b[1mwandb\u001b[0m: You can find your API key in your browser here: https://wandb.ai/authorize\n",
            "\u001b[34m\u001b[1mwandb\u001b[0m: Paste an API key from your profile and hit enter, or press ctrl+c to quit: \n",
            "\u001b[34m\u001b[1mwandb\u001b[0m: Appending key for api.wandb.ai to your netrc file: /root/.netrc\n",
            "\u001b[34m\u001b[1mtrain: \u001b[0mweights=/content/drive/MyDrive/yolov5/yolov5s.pt, cfg=/content/drive/MyDrive/yolov5/models/yolov5s.yaml, data=/content/drive/MyDrive/yolov5/data/google.yaml, hyp=../drive/MyDrive/yolov5/data/hyps/hyp.scratch-low.yaml, epochs=10000, batch_size=-1, imgsz=640, rect=False, resume=False, nosave=False, noval=False, noautoanchor=False, evolve=None, bucket=, cache=None, image_weights=False, device=, multi_scale=False, single_cls=False, optimizer=SGD, sync_bn=False, workers=8, project=../drive/MyDrive/yolov5/runs/train, name=exp, exist_ok=False, quad=False, cos_lr=False, label_smoothing=0.0, patience=100, freeze=[0], save_period=-1, local_rank=-1, entity=None, upload_dataset=False, bbox_interval=-1, artifact_alias=latest\n",
            "\u001b[34m\u001b[1mgithub: \u001b[0m⚠️ YOLOv5 is out of date by 52 commits. Use `git pull` or `git clone https://github.com/ultralytics/yolov5` to update.\n",
            "YOLOv5 🚀 v6.1-80-g4d157f5 torch 1.11.0+cu102 CUDA:0 (Tesla T4, 15110MiB)\n",
            "\n",
            "\u001b[34m\u001b[1mhyperparameters: \u001b[0mlr0=0.01, lrf=0.01, momentum=0.937, weight_decay=0.0005, warmup_epochs=3.0, warmup_momentum=0.8, warmup_bias_lr=0.1, box=0.05, cls=0.5, cls_pw=1.0, obj=1.0, obj_pw=1.0, iou_t=0.2, anchor_t=4.0, fl_gamma=0.0, hsv_h=0.015, hsv_s=0.7, hsv_v=0.4, degrees=0.0, translate=0.1, scale=0.5, shear=0.0, perspective=0.0, flipud=0.0, fliplr=0.5, mosaic=1.0, mixup=0.0, copy_paste=0.0\n",
            "\u001b[34m\u001b[1mTensorBoard: \u001b[0mStart with 'tensorboard --logdir ../drive/MyDrive/yolov5/runs/train', view at http://localhost:6006/\n",
            "\u001b[34m\u001b[1mwandb\u001b[0m: Currently logged in as: \u001b[33mjihk321\u001b[0m (use `wandb login --relogin` to force relogin)\n",
            "\u001b[34m\u001b[1mwandb\u001b[0m: Tracking run with wandb version 0.12.14\n",
            "\u001b[34m\u001b[1mwandb\u001b[0m: Run data is saved locally in \u001b[35m\u001b[1m/content/datasets/wandb/run-20220415_012638-2ub2q6p3\u001b[0m\n",
            "\u001b[34m\u001b[1mwandb\u001b[0m: Run \u001b[1m`wandb offline`\u001b[0m to turn off syncing.\n",
            "\u001b[34m\u001b[1mwandb\u001b[0m: Syncing run \u001b[33mfine-voice-5\u001b[0m\n",
            "\u001b[34m\u001b[1mwandb\u001b[0m: ⭐️ View project at \u001b[34m\u001b[4mhttps://wandb.ai/jihk321/train\u001b[0m\n",
            "\u001b[34m\u001b[1mwandb\u001b[0m: 🚀 View run at \u001b[34m\u001b[4mhttps://wandb.ai/jihk321/train/runs/2ub2q6p3\u001b[0m\n",
            "\n",
            "                 from  n    params  module                                  arguments                     \n",
            "  0                -1  1      3520  models.common.Conv                      [3, 32, 6, 2, 2]              \n",
            "  1                -1  1     18560  models.common.Conv                      [32, 64, 3, 2]                \n",
            "  2                -1  1     18816  models.common.C3                        [64, 64, 1]                   \n",
            "  3                -1  1     73984  models.common.Conv                      [64, 128, 3, 2]               \n",
            "  4                -1  2    115712  models.common.C3                        [128, 128, 2]                 \n",
            "  5                -1  1    295424  models.common.Conv                      [128, 256, 3, 2]              \n",
            "  6                -1  3    625152  models.common.C3                        [256, 256, 3]                 \n",
            "  7                -1  1   1180672  models.common.Conv                      [256, 512, 3, 2]              \n",
            "  8                -1  1   1182720  models.common.C3                        [512, 512, 1]                 \n",
            "  9                -1  1    656896  models.common.SPPF                      [512, 512, 5]                 \n",
            " 10                -1  1    131584  models.common.Conv                      [512, 256, 1, 1]              \n",
            " 11                -1  1         0  torch.nn.modules.upsampling.Upsample    [None, 2, 'nearest']          \n",
            " 12           [-1, 6]  1         0  models.common.Concat                    [1]                           \n",
            " 13                -1  1    361984  models.common.C3                        [512, 256, 1, False]          \n",
            " 14                -1  1     33024  models.common.Conv                      [256, 128, 1, 1]              \n",
            " 15                -1  1         0  torch.nn.modules.upsampling.Upsample    [None, 2, 'nearest']          \n",
            " 16           [-1, 4]  1         0  models.common.Concat                    [1]                           \n",
            " 17                -1  1     90880  models.common.C3                        [256, 128, 1, False]          \n",
            " 18                -1  1    147712  models.common.Conv                      [128, 128, 3, 2]              \n",
            " 19          [-1, 14]  1         0  models.common.Concat                    [1]                           \n",
            " 20                -1  1    296448  models.common.C3                        [256, 256, 1, False]          \n",
            " 21                -1  1    590336  models.common.Conv                      [256, 256, 3, 2]              \n",
            " 22          [-1, 10]  1         0  models.common.Concat                    [1]                           \n",
            " 23                -1  1   1182720  models.common.C3                        [512, 512, 1, False]          \n",
            " 24      [17, 20, 23]  1     24273  models.yolo.Detect                      [4, [[10, 13, 16, 30, 33, 23], [30, 61, 62, 45, 59, 119], [116, 90, 156, 198, 373, 326]], [128, 256, 512]]\n",
            "YOLOv5s summary: 270 layers, 7030417 parameters, 7030417 gradients, 15.9 GFLOPs\n",
            "\n",
            "Transferred 342/349 items from /content/drive/MyDrive/yolov5/yolov5s.pt\n",
            "\u001b[34m\u001b[1mAutoBatch: \u001b[0mComputing optimal batch size for --imgsz 640\n",
            "\u001b[34m\u001b[1mAutoBatch: \u001b[0mCUDA:0 (Tesla T4) 14.76G total, 0.06G reserved, 0.05G allocated, 14.64G free\n",
            "      Params      GFLOPs  GPU_mem (GB)  forward (ms) backward (ms)                   input                  output\n",
            "     7030417       15.87         0.256         14.81         15.54        (1, 3, 640, 640)                    list\n",
            "     7030417       31.75         0.436         18.95         17.45        (2, 3, 640, 640)                    list\n",
            "     7030417        63.5         0.902         18.51         19.24        (4, 3, 640, 640)                    list\n",
            "     7030417         127         1.669         30.82         33.54        (8, 3, 640, 640)                    list\n",
            "     7030417         254         3.240         60.82         66.69       (16, 3, 640, 640)                    list\n",
            "\u001b[34m\u001b[1mAutoBatch: \u001b[0mUsing batch-size 65 for CUDA:0 13.28G/14.76G (90%)\n",
            "Scaled weight_decay = 0.0005078125\n",
            "\u001b[34m\u001b[1moptimizer:\u001b[0m SGD with parameter groups 57 weight (no decay), 60 weight, 60 bias\n",
            "\u001b[34m\u001b[1malbumentations: \u001b[0mversion 1.0.3 required by YOLOv5, but version 0.1.12 is currently installed\n",
            "\u001b[34m\u001b[1mtrain: \u001b[0mScanning '/content/datasets/train/labels' images and labels...3074 found, 0 missing, 1879 empty, 0 corrupt: 100% 3074/3074 [00:01<00:00, 2515.17it/s]\n",
            "\u001b[34m\u001b[1mtrain: \u001b[0mNew cache created: /content/datasets/train/labels.cache\n",
            "\u001b[34m\u001b[1mval: \u001b[0mScanning '/content/datasets/valid/labels' images and labels...546 found, 0 missing, 77 empty, 0 corrupt: 100% 546/546 [00:00<00:00, 1274.59it/s]\n",
            "\u001b[34m\u001b[1mval: \u001b[0mNew cache created: /content/datasets/valid/labels.cache\n",
            "Plotting labels to ../drive/MyDrive/yolov5/runs/train/exp45/labels.jpg... \n",
            "\n",
            "\u001b[34m\u001b[1mAutoAnchor: \u001b[0m4.27 anchors/target, 0.999 Best Possible Recall (BPR). Current anchors are a good fit to dataset ✅\n",
            "Image sizes 640 train, 640 val\n",
            "Using 2 dataloader workers\n",
            "Logging results to \u001b[1m../drive/MyDrive/yolov5/runs/train/exp45\u001b[0m\n",
            "Starting training for 10000 epochs...\n",
            "\n",
            "     Epoch   gpu_mem       box       obj       cls    labels  img_size\n",
            "    0/9999     13.5G   0.09713   0.01122   0.03525        14       640: 100% 48/48 [01:39<00:00,  2.07s/it]\n",
            "               Class     Images     Labels          P          R     mAP@.5 mAP@.5:.95: 100% 5/5 [00:06<00:00,  1.33s/it]\n",
            "                 all        546        570      0.517     0.0308    0.00503    0.00119\n",
            "\n",
            "     Epoch   gpu_mem       box       obj       cls    labels  img_size\n",
            "    1/9999     11.9G   0.07219  0.006985   0.02712        11       640: 100% 48/48 [01:36<00:00,  2.01s/it]\n",
            "               Class     Images     Labels          P          R     mAP@.5 mAP@.5:.95: 100% 5/5 [00:06<00:00,  1.31s/it]\n",
            "                 all        546        570        0.4     0.0573      0.035     0.0118\n",
            "\n",
            "     Epoch   gpu_mem       box       obj       cls    labels  img_size\n",
            "    2/9999     11.9G   0.07125  0.006582   0.02207         9       640: 100% 48/48 [01:36<00:00,  2.01s/it]\n",
            "               Class     Images     Labels          P          R     mAP@.5 mAP@.5:.95: 100% 5/5 [00:06<00:00,  1.26s/it]\n",
            "                 all        546        570      0.255    0.00378    0.00161    0.00034\n",
            "\n",
            "     Epoch   gpu_mem       box       obj       cls    labels  img_size\n",
            "    3/9999     11.9G   0.07648  0.006248   0.02116         7       640: 100% 48/48 [01:37<00:00,  2.03s/it]\n",
            "               Class     Images     Labels          P          R     mAP@.5 mAP@.5:.95:   0% 0/5 [00:00<?, ?it/s]WARNING: NMS time limit 3.900s exceeded\n",
            "               Class     Images     Labels          P          R     mAP@.5 mAP@.5:.95:  20% 1/5 [00:04<00:19,  4.86s/it]WARNING: NMS time limit 3.900s exceeded\n",
            "               Class     Images     Labels          P          R     mAP@.5 mAP@.5:.95:  40% 2/5 [00:09<00:14,  4.80s/it]WARNING: NMS time limit 3.900s exceeded\n",
            "               Class     Images     Labels          P          R     mAP@.5 mAP@.5:.95: 100% 5/5 [00:19<00:00,  3.87s/it]\n",
            "                 all        546        570    0.00459    0.00378   0.000465   0.000103\n",
            "\n",
            "     Epoch   gpu_mem       box       obj       cls    labels  img_size\n",
            "    4/9999     11.9G   0.07484  0.006041   0.01938        11       640: 100% 48/48 [01:34<00:00,  1.98s/it]\n",
            "               Class     Images     Labels          P          R     mAP@.5 mAP@.5:.95: 100% 5/5 [00:09<00:00,  1.97s/it]\n",
            "                 all        546        570     0.0081     0.0868     0.0019   0.000504\n",
            "\n",
            "     Epoch   gpu_mem       box       obj       cls    labels  img_size\n",
            "    5/9999     11.9G   0.07295  0.006416   0.02067         7       640: 100% 48/48 [01:34<00:00,  1.98s/it]\n",
            "               Class     Images     Labels          P          R     mAP@.5 mAP@.5:.95: 100% 5/5 [00:06<00:00,  1.27s/it]\n",
            "                 all        546        570      0.269     0.0208    0.00425    0.00107\n",
            "\n",
            "     Epoch   gpu_mem       box       obj       cls    labels  img_size\n",
            "    6/9999     11.9G   0.06779  0.006233   0.01807         6       640: 100% 48/48 [01:36<00:00,  2.01s/it]\n",
            "               Class     Images     Labels          P          R     mAP@.5 mAP@.5:.95: 100% 5/5 [00:08<00:00,  1.63s/it]\n",
            "                 all        546        570      0.312     0.0599     0.0234     0.0062\n",
            "\n",
            "     Epoch   gpu_mem       box       obj       cls    labels  img_size\n",
            "    7/9999     11.9G   0.06881  0.005637   0.01791        14       640: 100% 48/48 [01:36<00:00,  2.02s/it]\n",
            "               Class     Images     Labels          P          R     mAP@.5 mAP@.5:.95: 100% 5/5 [00:06<00:00,  1.36s/it]\n",
            "                 all        546        570      0.598      0.107     0.0506     0.0161\n",
            "\n",
            "     Epoch   gpu_mem       box       obj       cls    labels  img_size\n",
            "    8/9999     11.9G   0.06656  0.005856   0.01543         8       640: 100% 48/48 [01:36<00:00,  2.02s/it]\n",
            "               Class     Images     Labels          P          R     mAP@.5 mAP@.5:.95: 100% 5/5 [00:06<00:00,  1.27s/it]\n",
            "                 all        546        570      0.625      0.126      0.123     0.0371\n",
            "\n",
            "     Epoch   gpu_mem       box       obj       cls    labels  img_size\n",
            "    9/9999     11.9G    0.0649  0.005892   0.01606        12       640: 100% 48/48 [01:36<00:00,  2.02s/it]\n",
            "               Class     Images     Labels          P          R     mAP@.5 mAP@.5:.95: 100% 5/5 [00:06<00:00,  1.27s/it]\n",
            "                 all        546        570      0.655       0.11     0.0848     0.0273\n",
            "\n",
            "     Epoch   gpu_mem       box       obj       cls    labels  img_size\n",
            "   10/9999     11.9G   0.06397  0.005501   0.01569        15       640: 100% 48/48 [01:37<00:00,  2.03s/it]\n",
            "               Class     Images     Labels          P          R     mAP@.5 mAP@.5:.95: 100% 5/5 [00:07<00:00,  1.56s/it]\n",
            "                 all        546        570      0.663      0.107     0.0745       0.02\n",
            "\n",
            "     Epoch   gpu_mem       box       obj       cls    labels  img_size\n",
            "   11/9999     11.9G   0.06192   0.00575   0.01442        14       640: 100% 48/48 [01:36<00:00,  2.00s/it]\n",
            "               Class     Images     Labels          P          R     mAP@.5 mAP@.5:.95: 100% 5/5 [00:06<00:00,  1.29s/it]\n",
            "                 all        546        570       0.65      0.139     0.0962     0.0243\n",
            "\n",
            "     Epoch   gpu_mem       box       obj       cls    labels  img_size\n",
            "   12/9999     11.9G   0.06294  0.005416   0.01467        14       640: 100% 48/48 [01:37<00:00,  2.02s/it]\n",
            "               Class     Images     Labels          P          R     mAP@.5 mAP@.5:.95: 100% 5/5 [00:06<00:00,  1.27s/it]\n",
            "                 all        546        570       0.65      0.157      0.109     0.0383\n",
            "\n",
            "     Epoch   gpu_mem       box       obj       cls    labels  img_size\n",
            "   13/9999     11.9G   0.06142  0.005362   0.01427        17       640: 100% 48/48 [01:37<00:00,  2.03s/it]\n",
            "               Class     Images     Labels          P          R     mAP@.5 mAP@.5:.95: 100% 5/5 [00:06<00:00,  1.30s/it]\n",
            "                 all        546        570      0.633      0.149      0.109     0.0363\n",
            "\n",
            "     Epoch   gpu_mem       box       obj       cls    labels  img_size\n",
            "   14/9999     11.9G   0.06076  0.005374   0.01263        13       640: 100% 48/48 [01:38<00:00,  2.05s/it]\n",
            "               Class     Images     Labels          P          R     mAP@.5 mAP@.5:.95: 100% 5/5 [00:06<00:00,  1.27s/it]\n",
            "                 all        546        570      0.649     0.0945     0.0695     0.0243\n",
            "\n",
            "     Epoch   gpu_mem       box       obj       cls    labels  img_size\n",
            "   15/9999     11.9G   0.06145  0.005191    0.0137        13       640: 100% 48/48 [01:37<00:00,  2.03s/it]\n",
            "               Class     Images     Labels          P          R     mAP@.5 mAP@.5:.95: 100% 5/5 [00:06<00:00,  1.31s/it]\n",
            "                 all        546        570      0.622      0.133      0.092     0.0283\n",
            "\n",
            "     Epoch   gpu_mem       box       obj       cls    labels  img_size\n",
            "   16/9999     11.9G   0.05989   0.00538   0.01343        11       640: 100% 48/48 [01:36<00:00,  2.01s/it]\n",
            "               Class     Images     Labels          P          R     mAP@.5 mAP@.5:.95: 100% 5/5 [00:06<00:00,  1.30s/it]\n",
            "                 all        546        570      0.814      0.115       0.12     0.0354\n",
            "\n",
            "     Epoch   gpu_mem       box       obj       cls    labels  img_size\n",
            "   17/9999     11.9G   0.05856  0.005347   0.01132         5       640: 100% 48/48 [01:37<00:00,  2.03s/it]\n",
            "               Class     Images     Labels          P          R     mAP@.5 mAP@.5:.95: 100% 5/5 [00:06<00:00,  1.26s/it]\n",
            "                 all        546        570      0.728      0.152      0.143     0.0443\n",
            "\n",
            "     Epoch   gpu_mem       box       obj       cls    labels  img_size\n",
            "   18/9999     11.9G   0.05815  0.005115   0.01308        15       640: 100% 48/48 [01:37<00:00,  2.02s/it]\n",
            "               Class     Images     Labels          P          R     mAP@.5 mAP@.5:.95: 100% 5/5 [00:06<00:00,  1.27s/it]\n",
            "                 all        546        570      0.735      0.127       0.12     0.0348\n",
            "\n",
            "     Epoch   gpu_mem       box       obj       cls    labels  img_size\n",
            "   19/9999     11.9G   0.05872  0.005235   0.01154         9       640: 100% 48/48 [01:37<00:00,  2.04s/it]\n",
            "               Class     Images     Labels          P          R     mAP@.5 mAP@.5:.95: 100% 5/5 [00:06<00:00,  1.25s/it]\n",
            "                 all        546        570      0.754      0.172       0.16     0.0537\n",
            "\n",
            "     Epoch   gpu_mem       box       obj       cls    labels  img_size\n",
            "   20/9999     11.9G   0.05785  0.004967   0.01129        11       640: 100% 48/48 [01:37<00:00,  2.03s/it]\n",
            "               Class     Images     Labels          P          R     mAP@.5 mAP@.5:.95: 100% 5/5 [00:06<00:00,  1.32s/it]\n",
            "                 all        546        570      0.633      0.229      0.151     0.0535\n",
            "\n",
            "     Epoch   gpu_mem       box       obj       cls    labels  img_size\n",
            "   21/9999     11.9G   0.05607  0.005201   0.01204        10       640: 100% 48/48 [01:37<00:00,  2.03s/it]\n",
            "               Class     Images     Labels          P          R     mAP@.5 mAP@.5:.95: 100% 5/5 [00:06<00:00,  1.25s/it]\n",
            "                 all        546        570      0.713      0.199      0.178     0.0622\n",
            "\n",
            "     Epoch   gpu_mem       box       obj       cls    labels  img_size\n",
            "   22/9999     11.9G   0.05559  0.004766   0.01139        16       640: 100% 48/48 [01:37<00:00,  2.03s/it]\n",
            "               Class     Images     Labels          P          R     mAP@.5 mAP@.5:.95: 100% 5/5 [00:06<00:00,  1.32s/it]\n",
            "                 all        546        570      0.766      0.186      0.193     0.0729\n",
            "\n",
            "     Epoch   gpu_mem       box       obj       cls    labels  img_size\n",
            "   23/9999     11.9G   0.05655  0.004966   0.01108        10       640: 100% 48/48 [01:36<00:00,  2.01s/it]\n",
            "               Class     Images     Labels          P          R     mAP@.5 mAP@.5:.95: 100% 5/5 [00:06<00:00,  1.28s/it]\n",
            "                 all        546        570      0.726      0.214      0.186     0.0653\n",
            "\n",
            "     Epoch   gpu_mem       box       obj       cls    labels  img_size\n",
            "   24/9999     11.9G   0.05601  0.004705   0.01094         8       640: 100% 48/48 [01:37<00:00,  2.04s/it]\n",
            "               Class     Images     Labels          P          R     mAP@.5 mAP@.5:.95: 100% 5/5 [00:06<00:00,  1.30s/it]\n",
            "                 all        546        570      0.732      0.182      0.149     0.0569\n",
            "\n",
            "     Epoch   gpu_mem       box       obj       cls    labels  img_size\n",
            "   25/9999     11.9G    0.0572  0.004941   0.01129        11       640: 100% 48/48 [01:37<00:00,  2.03s/it]\n",
            "               Class     Images     Labels          P          R     mAP@.5 mAP@.5:.95: 100% 5/5 [00:06<00:00,  1.27s/it]\n",
            "                 all        546        570      0.756      0.189      0.181     0.0602\n",
            "\n",
            "     Epoch   gpu_mem       box       obj       cls    labels  img_size\n",
            "   26/9999     11.9G   0.05397  0.004916  0.009977        15       640: 100% 48/48 [01:38<00:00,  2.05s/it]\n",
            "               Class     Images     Labels          P          R     mAP@.5 mAP@.5:.95: 100% 5/5 [00:06<00:00,  1.28s/it]\n",
            "                 all        546        570      0.681       0.15      0.115     0.0458\n",
            "\n",
            "     Epoch   gpu_mem       box       obj       cls    labels  img_size\n",
            "   27/9999     11.9G   0.05454  0.004748   0.01112         8       640: 100% 48/48 [01:37<00:00,  2.03s/it]\n",
            "               Class     Images     Labels          P          R     mAP@.5 mAP@.5:.95: 100% 5/5 [00:06<00:00,  1.29s/it]\n",
            "                 all        546        570      0.708      0.189      0.164     0.0551\n",
            "\n",
            "     Epoch   gpu_mem       box       obj       cls    labels  img_size\n",
            "   28/9999     11.9G   0.05504   0.00491  0.009918        11       640: 100% 48/48 [01:37<00:00,  2.03s/it]\n",
            "               Class     Images     Labels          P          R     mAP@.5 mAP@.5:.95: 100% 5/5 [00:06<00:00,  1.25s/it]\n",
            "                 all        546        570      0.737      0.169      0.171     0.0648\n",
            "\n",
            "     Epoch   gpu_mem       box       obj       cls    labels  img_size\n",
            "   29/9999     11.9G   0.05383  0.004806  0.009632        11       640: 100% 48/48 [01:37<00:00,  2.04s/it]\n",
            "               Class     Images     Labels          P          R     mAP@.5 mAP@.5:.95: 100% 5/5 [00:06<00:00,  1.34s/it]\n",
            "                 all        546        570      0.576      0.221      0.204     0.0679\n",
            "\n",
            "     Epoch   gpu_mem       box       obj       cls    labels  img_size\n",
            "   30/9999     11.9G   0.05328  0.004629   0.00785         8       640: 100% 48/48 [01:37<00:00,  2.03s/it]\n",
            "               Class     Images     Labels          P          R     mAP@.5 mAP@.5:.95: 100% 5/5 [00:06<00:00,  1.33s/it]\n",
            "                 all        546        570      0.737      0.173      0.181     0.0663\n",
            "\n",
            "     Epoch   gpu_mem       box       obj       cls    labels  img_size\n",
            "   31/9999     11.9G   0.05321   0.00482   0.01054        10       640: 100% 48/48 [01:34<00:00,  1.96s/it]\n",
            "               Class     Images     Labels          P          R     mAP@.5 mAP@.5:.95: 100% 5/5 [00:06<00:00,  1.25s/it]\n",
            "                 all        546        570      0.725      0.195       0.18     0.0703\n",
            "\n",
            "     Epoch   gpu_mem       box       obj       cls    labels  img_size\n",
            "   32/9999     11.9G   0.05351  0.004825  0.009043        17       640: 100% 48/48 [01:33<00:00,  1.96s/it]\n",
            "               Class     Images     Labels          P          R     mAP@.5 mAP@.5:.95: 100% 5/5 [00:06<00:00,  1.27s/it]\n",
            "                 all        546        570      0.699      0.225       0.19     0.0617\n",
            "\n",
            "     Epoch   gpu_mem       box       obj       cls    labels  img_size\n",
            "   33/9999     11.9G   0.05322  0.004663    0.0105        13       640: 100% 48/48 [01:34<00:00,  1.96s/it]\n",
            "               Class     Images     Labels          P          R     mAP@.5 mAP@.5:.95: 100% 5/5 [00:06<00:00,  1.30s/it]\n",
            "                 all        546        570      0.516      0.223      0.188      0.073\n",
            "\n",
            "     Epoch   gpu_mem       box       obj       cls    labels  img_size\n",
            "   34/9999     11.9G   0.05315  0.004545  0.009709         9       640: 100% 48/48 [01:33<00:00,  1.94s/it]\n",
            "               Class     Images     Labels          P          R     mAP@.5 mAP@.5:.95: 100% 5/5 [00:06<00:00,  1.24s/it]\n",
            "                 all        546        570      0.543      0.166      0.181     0.0698\n",
            "\n",
            "     Epoch   gpu_mem       box       obj       cls    labels  img_size\n",
            "   35/9999     11.9G   0.05291  0.004672  0.009024        11       640: 100% 48/48 [01:32<00:00,  1.93s/it]\n",
            "               Class     Images     Labels          P          R     mAP@.5 mAP@.5:.95: 100% 5/5 [00:06<00:00,  1.23s/it]\n",
            "                 all        546        570      0.728      0.174      0.175     0.0737\n",
            "\n",
            "     Epoch   gpu_mem       box       obj       cls    labels  img_size\n",
            "   36/9999     11.9G   0.05326  0.004734  0.009485        17       640: 100% 48/48 [01:33<00:00,  1.95s/it]\n",
            "               Class     Images     Labels          P          R     mAP@.5 mAP@.5:.95: 100% 5/5 [00:06<00:00,  1.24s/it]\n",
            "                 all        546        570      0.748      0.192      0.179     0.0694\n",
            "\n",
            "     Epoch   gpu_mem       box       obj       cls    labels  img_size\n",
            "   37/9999     11.9G   0.05205  0.004733  0.009222        15       640: 100% 48/48 [01:34<00:00,  1.97s/it]\n",
            "               Class     Images     Labels          P          R     mAP@.5 mAP@.5:.95: 100% 5/5 [00:06<00:00,  1.30s/it]\n",
            "                 all        546        570      0.459      0.166      0.133     0.0513\n",
            "\n",
            "     Epoch   gpu_mem       box       obj       cls    labels  img_size\n",
            "   38/9999     11.9G   0.05154  0.004781  0.009185        14       640: 100% 48/48 [01:33<00:00,  1.95s/it]\n",
            "               Class     Images     Labels          P          R     mAP@.5 mAP@.5:.95: 100% 5/5 [00:06<00:00,  1.26s/it]\n",
            "                 all        546        570      0.762      0.169      0.167     0.0648\n",
            "\n",
            "     Epoch   gpu_mem       box       obj       cls    labels  img_size\n",
            "   39/9999     11.9G   0.05156  0.004751  0.008095        14       640: 100% 48/48 [01:33<00:00,  1.95s/it]\n",
            "               Class     Images     Labels          P          R     mAP@.5 mAP@.5:.95: 100% 5/5 [00:06<00:00,  1.22s/it]\n",
            "                 all        546        570      0.507      0.173      0.178     0.0704\n",
            "\n",
            "     Epoch   gpu_mem       box       obj       cls    labels  img_size\n",
            "   40/9999     11.9G   0.05186  0.004771  0.008609        13       640: 100% 48/48 [01:36<00:00,  2.01s/it]\n",
            "               Class     Images     Labels          P          R     mAP@.5 mAP@.5:.95: 100% 5/5 [00:06<00:00,  1.27s/it]\n",
            "                 all        546        570      0.739      0.197       0.18     0.0713\n",
            "\n",
            "     Epoch   gpu_mem       box       obj       cls    labels  img_size\n",
            "   41/9999     11.9G   0.05098  0.004683  0.008189        15       640: 100% 48/48 [01:36<00:00,  2.01s/it]\n",
            "               Class     Images     Labels          P          R     mAP@.5 mAP@.5:.95: 100% 5/5 [00:06<00:00,  1.25s/it]\n",
            "                 all        546        570      0.746      0.222      0.216      0.087\n",
            "\n",
            "     Epoch   gpu_mem       box       obj       cls    labels  img_size\n",
            "   42/9999     11.9G   0.05108  0.004497  0.007638        10       640: 100% 48/48 [01:36<00:00,  2.02s/it]\n",
            "               Class     Images     Labels          P          R     mAP@.5 mAP@.5:.95: 100% 5/5 [00:06<00:00,  1.26s/it]\n",
            "                 all        546        570      0.527      0.169       0.18     0.0659\n",
            "\n",
            "     Epoch   gpu_mem       box       obj       cls    labels  img_size\n",
            "   43/9999     11.9G   0.05151   0.00449  0.007645        18       640: 100% 48/48 [01:37<00:00,  2.04s/it]\n",
            "               Class     Images     Labels          P          R     mAP@.5 mAP@.5:.95: 100% 5/5 [00:06<00:00,  1.23s/it]\n",
            "                 all        546        570      0.576      0.207      0.214     0.0875\n",
            "\n",
            "     Epoch   gpu_mem       box       obj       cls    labels  img_size\n",
            "   44/9999     11.9G   0.05235  0.004644  0.008863         7       640: 100% 48/48 [01:35<00:00,  2.00s/it]\n",
            "               Class     Images     Labels          P          R     mAP@.5 mAP@.5:.95: 100% 5/5 [00:06<00:00,  1.24s/it]\n",
            "                 all        546        570      0.882      0.149      0.191     0.0759\n",
            "\n",
            "     Epoch   gpu_mem       box       obj       cls    labels  img_size\n",
            "   45/9999     11.9G   0.05217  0.004662  0.008221        44       640:  27% 13/48 [00:25<01:19,  2.27s/it]"
          ]
        }
      ]
    },
    {
      "cell_type": "markdown",
      "source": [
        "학습 이어서 하기"
      ],
      "metadata": {
        "id": "lHtFvceGybgQ"
      }
    },
    {
      "cell_type": "code",
      "source": [
        "!python  /content/drive/MyDrive/yolov5/train.py --resume /content/drive/MyDrive/yolov5/runs/train/exp44/weights/last.pt"
      ],
      "metadata": {
        "id": "I32OYLsrApox"
      },
      "execution_count": null,
      "outputs": []
    },
    {
      "cell_type": "markdown",
      "source": [
        "wandb API 키 \n",
        "1b9d827fe8638cea9f72adc5f86b743e8b295ee5"
      ],
      "metadata": {
        "id": "t8Y_6heeDVgq"
      }
    },
    {
      "cell_type": "markdown",
      "source": [
        "인자값 설명\n",
        "\n",
        "--img: input image 사이즈\n",
        "\n",
        "--batch: 배치 사이즈 \n",
        "\n",
        "--epochs: epochs 수\n",
        "\n",
        "--data: 3. 에서 만든 YAML 파일\n",
        "\n",
        "--cfg: 모델 YAML file\n",
        "\n",
        "--weights: 전이학습 사용시에 쓸 weight (모델에 맡게 yolov5s.pt / yolov5m.pt / yolov5l.pt / yolov5x.pt)\n",
        "github.com/ultralytics/yolov5/releases에서 자동으로 다운받아짐\n",
        "\n",
        "--device: GPU / CPU (0 or 0,1,2,3 or cpu)\n",
        "--name: 학습 정보를 runs 폴더 안에 저장해 줄 때 이름을 정할 수 있는 것 같다 (exp1, 2, ... 기본값으로 설정되어 있는 이름들은 나중에 알아보기 힘들 수도 있으니..) -> yolov5/runs/exp0_name/ 이런식\n",
        "\n",
        "--name : 저장 폴더 이름 \n",
        "\n",
        "--resume: 학습이 어떤 이유로 중간에 멈췄다면, $ python train.py --resume 코드를 통해 제일 최근에 저장된 weight \"last.py\" 부터 학습을 다시 시작할 수 있다. Epoch도 멈췄던 지점부터 다시 학습이 된다. 특정 weight 부터 학습을 다시 시작하고 싶다면 $ python train.py --resume runs/exp0/weights/last.pt 이런식으로 weight 경로를 적어주면 된다.\n",
        "\n",
        "-patience :  학습 진행이 디뎌지면 일찍 종료하는 것 0 or 300\n"
      ],
      "metadata": {
        "id": "qgpZ2zSEDT-t"
      }
    }
  ]
}